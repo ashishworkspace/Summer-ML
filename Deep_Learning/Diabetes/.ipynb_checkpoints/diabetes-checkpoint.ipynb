{
 "cells": [
  {
   "cell_type": "code",
   "execution_count": 91,
   "id": "89065992",
   "metadata": {},
   "outputs": [],
   "source": [
    "import pandas"
   ]
  },
  {
   "cell_type": "code",
   "execution_count": 92,
   "id": "32bb3728",
   "metadata": {},
   "outputs": [],
   "source": [
    "# 1. Number of times pregnant\n",
    "# 2. Plasma glucose concentration a 2 hours in an oral glucose tolerance test\n",
    "# 3. Diastolic blood pressure (mm Hg)\n",
    "# 4. Triceps skin fold thickness (mm)\n",
    "# 5. 2-Hour serum insulin (mu U/ml)\n",
    "# 6. Body mass index (weight in kg/(height in m)^2)\n",
    "# 7. Diabetes pedigree function\n",
    "# 8. Age (years)\n",
    "# 9. Class variable (0 or 1)\n",
    "database = pandas.read_csv('pima-indians-diabetes.csv', header=None, )"
   ]
  },
  {
   "cell_type": "code",
   "execution_count": 93,
   "id": "5926dec5",
   "metadata": {},
   "outputs": [
    {
     "data": {
      "text/html": [
       "<div>\n",
       "<style scoped>\n",
       "    .dataframe tbody tr th:only-of-type {\n",
       "        vertical-align: middle;\n",
       "    }\n",
       "\n",
       "    .dataframe tbody tr th {\n",
       "        vertical-align: top;\n",
       "    }\n",
       "\n",
       "    .dataframe thead th {\n",
       "        text-align: right;\n",
       "    }\n",
       "</style>\n",
       "<table border=\"1\" class=\"dataframe\">\n",
       "  <thead>\n",
       "    <tr style=\"text-align: right;\">\n",
       "      <th></th>\n",
       "      <th>0</th>\n",
       "      <th>1</th>\n",
       "      <th>2</th>\n",
       "      <th>3</th>\n",
       "      <th>4</th>\n",
       "      <th>5</th>\n",
       "      <th>6</th>\n",
       "      <th>7</th>\n",
       "      <th>8</th>\n",
       "    </tr>\n",
       "  </thead>\n",
       "  <tbody>\n",
       "    <tr>\n",
       "      <th>0</th>\n",
       "      <td>6</td>\n",
       "      <td>148</td>\n",
       "      <td>72</td>\n",
       "      <td>35</td>\n",
       "      <td>0</td>\n",
       "      <td>33.6</td>\n",
       "      <td>0.627</td>\n",
       "      <td>50</td>\n",
       "      <td>1</td>\n",
       "    </tr>\n",
       "    <tr>\n",
       "      <th>1</th>\n",
       "      <td>1</td>\n",
       "      <td>85</td>\n",
       "      <td>66</td>\n",
       "      <td>29</td>\n",
       "      <td>0</td>\n",
       "      <td>26.6</td>\n",
       "      <td>0.351</td>\n",
       "      <td>31</td>\n",
       "      <td>0</td>\n",
       "    </tr>\n",
       "    <tr>\n",
       "      <th>2</th>\n",
       "      <td>8</td>\n",
       "      <td>183</td>\n",
       "      <td>64</td>\n",
       "      <td>0</td>\n",
       "      <td>0</td>\n",
       "      <td>23.3</td>\n",
       "      <td>0.672</td>\n",
       "      <td>32</td>\n",
       "      <td>1</td>\n",
       "    </tr>\n",
       "    <tr>\n",
       "      <th>3</th>\n",
       "      <td>1</td>\n",
       "      <td>89</td>\n",
       "      <td>66</td>\n",
       "      <td>23</td>\n",
       "      <td>94</td>\n",
       "      <td>28.1</td>\n",
       "      <td>0.167</td>\n",
       "      <td>21</td>\n",
       "      <td>0</td>\n",
       "    </tr>\n",
       "    <tr>\n",
       "      <th>4</th>\n",
       "      <td>0</td>\n",
       "      <td>137</td>\n",
       "      <td>40</td>\n",
       "      <td>35</td>\n",
       "      <td>168</td>\n",
       "      <td>43.1</td>\n",
       "      <td>2.288</td>\n",
       "      <td>33</td>\n",
       "      <td>1</td>\n",
       "    </tr>\n",
       "  </tbody>\n",
       "</table>\n",
       "</div>"
      ],
      "text/plain": [
       "   0    1   2   3    4     5      6   7  8\n",
       "0  6  148  72  35    0  33.6  0.627  50  1\n",
       "1  1   85  66  29    0  26.6  0.351  31  0\n",
       "2  8  183  64   0    0  23.3  0.672  32  1\n",
       "3  1   89  66  23   94  28.1  0.167  21  0\n",
       "4  0  137  40  35  168  43.1  2.288  33  1"
      ]
     },
     "execution_count": 93,
     "metadata": {},
     "output_type": "execute_result"
    }
   ],
   "source": [
    "database.head(5)"
   ]
  },
  {
   "cell_type": "code",
   "execution_count": 94,
   "id": "81243155",
   "metadata": {},
   "outputs": [],
   "source": [
    "from tensorflow.keras.models import Sequential"
   ]
  },
  {
   "cell_type": "code",
   "execution_count": 95,
   "id": "45a1fbcc",
   "metadata": {},
   "outputs": [],
   "source": [
    "model = Sequential()"
   ]
  },
  {
   "cell_type": "code",
   "execution_count": 96,
   "id": "cae4eeec",
   "metadata": {},
   "outputs": [],
   "source": [
    "from tensorflow.keras.layers import Dense"
   ]
  },
  {
   "cell_type": "code",
   "execution_count": 97,
   "id": "1110a2c7",
   "metadata": {},
   "outputs": [],
   "source": [
    "model.add(Dense(activation='relu', bias_initializer='zeros', kernel_initializer='zeros', units=11 , input_dim=8))"
   ]
  },
  {
   "cell_type": "code",
   "execution_count": 98,
   "id": "9e02fc93",
   "metadata": {},
   "outputs": [],
   "source": [
    "Xfield = database.iloc[:,:-1]"
   ]
  },
  {
   "cell_type": "code",
   "execution_count": 99,
   "id": "3a5105f3",
   "metadata": {},
   "outputs": [],
   "source": [
    "Yfield = database.iloc[:,-1]"
   ]
  },
  {
   "cell_type": "code",
   "execution_count": 100,
   "id": "49c1754a",
   "metadata": {},
   "outputs": [],
   "source": [
    "from tensorflow.keras.optimizers import Adam"
   ]
  },
  {
   "cell_type": "code",
   "execution_count": 101,
   "id": "faf7c125",
   "metadata": {},
   "outputs": [],
   "source": [
    "model.compile(optimizer=Adam(), loss='binary_crossentropy')"
   ]
  },
  {
   "cell_type": "code",
   "execution_count": 102,
   "id": "49833065",
   "metadata": {},
   "outputs": [],
   "source": [
    "model.add(Dense(activation='relu', bias_initializer='zeros', kernel_initializer='zeros', units=6 ))"
   ]
  },
  {
   "cell_type": "code",
   "execution_count": 103,
   "id": "74d8a875",
   "metadata": {},
   "outputs": [],
   "source": [
    "model.add(Dense(activation='sigmoid', bias_initializer='zeros', kernel_initializer='zeros', units=1))"
   ]
  },
  {
   "cell_type": "code",
   "execution_count": 104,
   "id": "3ffd1419",
   "metadata": {},
   "outputs": [
    {
     "name": "stdout",
     "output_type": "stream",
     "text": [
      "Model: \"sequential_2\"\n",
      "_________________________________________________________________\n",
      "Layer (type)                 Output Shape              Param #   \n",
      "=================================================================\n",
      "dense_4 (Dense)              (None, 11)                99        \n",
      "_________________________________________________________________\n",
      "dense_5 (Dense)              (None, 6)                 72        \n",
      "_________________________________________________________________\n",
      "dense_6 (Dense)              (None, 1)                 7         \n",
      "=================================================================\n",
      "Total params: 178\n",
      "Trainable params: 178\n",
      "Non-trainable params: 0\n",
      "_________________________________________________________________\n"
     ]
    }
   ],
   "source": [
    "model.summary()"
   ]
  },
  {
   "cell_type": "code",
   "execution_count": 105,
   "id": "2ec8b165",
   "metadata": {},
   "outputs": [
    {
     "data": {
      "text/plain": [
       "[<tf.Variable 'dense_4/kernel:0' shape=(8, 11) dtype=float32, numpy=\n",
       " array([[0., 0., 0., 0., 0., 0., 0., 0., 0., 0., 0.],\n",
       "        [0., 0., 0., 0., 0., 0., 0., 0., 0., 0., 0.],\n",
       "        [0., 0., 0., 0., 0., 0., 0., 0., 0., 0., 0.],\n",
       "        [0., 0., 0., 0., 0., 0., 0., 0., 0., 0., 0.],\n",
       "        [0., 0., 0., 0., 0., 0., 0., 0., 0., 0., 0.],\n",
       "        [0., 0., 0., 0., 0., 0., 0., 0., 0., 0., 0.],\n",
       "        [0., 0., 0., 0., 0., 0., 0., 0., 0., 0., 0.],\n",
       "        [0., 0., 0., 0., 0., 0., 0., 0., 0., 0., 0.]], dtype=float32)>,\n",
       " <tf.Variable 'dense_4/bias:0' shape=(11,) dtype=float32, numpy=array([0., 0., 0., 0., 0., 0., 0., 0., 0., 0., 0.], dtype=float32)>,\n",
       " <tf.Variable 'dense_5/kernel:0' shape=(11, 6) dtype=float32, numpy=\n",
       " array([[0., 0., 0., 0., 0., 0.],\n",
       "        [0., 0., 0., 0., 0., 0.],\n",
       "        [0., 0., 0., 0., 0., 0.],\n",
       "        [0., 0., 0., 0., 0., 0.],\n",
       "        [0., 0., 0., 0., 0., 0.],\n",
       "        [0., 0., 0., 0., 0., 0.],\n",
       "        [0., 0., 0., 0., 0., 0.],\n",
       "        [0., 0., 0., 0., 0., 0.],\n",
       "        [0., 0., 0., 0., 0., 0.],\n",
       "        [0., 0., 0., 0., 0., 0.],\n",
       "        [0., 0., 0., 0., 0., 0.]], dtype=float32)>,\n",
       " <tf.Variable 'dense_5/bias:0' shape=(6,) dtype=float32, numpy=array([0., 0., 0., 0., 0., 0.], dtype=float32)>,\n",
       " <tf.Variable 'dense_6/kernel:0' shape=(6, 1) dtype=float32, numpy=\n",
       " array([[0.],\n",
       "        [0.],\n",
       "        [0.],\n",
       "        [0.],\n",
       "        [0.],\n",
       "        [0.]], dtype=float32)>,\n",
       " <tf.Variable 'dense_6/bias:0' shape=(1,) dtype=float32, numpy=array([0.], dtype=float32)>]"
      ]
     },
     "execution_count": 105,
     "metadata": {},
     "output_type": "execute_result"
    }
   ],
   "source": [
    "model.weights"
   ]
  },
  {
   "cell_type": "code",
   "execution_count": 106,
   "id": "447735cf",
   "metadata": {},
   "outputs": [],
   "source": [
    "from sklearn.model_selection import train_test_split"
   ]
  },
  {
   "cell_type": "code",
   "execution_count": 108,
   "id": "0c0f5cee",
   "metadata": {},
   "outputs": [],
   "source": [
    "X_train, X_test, y_train, y_test = train_test_split(Xfield, Yfield, test_size=0.23, random_state=42)"
   ]
  },
  {
   "cell_type": "code",
   "execution_count": 110,
   "id": "e15f6474",
   "metadata": {},
   "outputs": [
    {
     "name": "stdout",
     "output_type": "stream",
     "text": [
      "Epoch 1/100\n",
      "19/19 [==============================] - 0s 1ms/step - loss: 0.6894\n",
      "Epoch 2/100\n",
      "19/19 [==============================] - 0s 944us/step - loss: 0.6869\n",
      "Epoch 3/100\n",
      "19/19 [==============================] - 0s 1ms/step - loss: 0.6849\n",
      "Epoch 4/100\n",
      "19/19 [==============================] - 0s 833us/step - loss: 0.6825\n",
      "Epoch 5/100\n",
      "19/19 [==============================] - 0s 889us/step - loss: 0.6805\n",
      "Epoch 6/100\n",
      "19/19 [==============================] - 0s 1ms/step - loss: 0.6787\n",
      "Epoch 7/100\n",
      "19/19 [==============================] - 0s 1ms/step - loss: 0.6767\n",
      "Epoch 8/100\n",
      "19/19 [==============================] - 0s 944us/step - loss: 0.6748\n",
      "Epoch 9/100\n",
      "19/19 [==============================] - 0s 833us/step - loss: 0.6732\n",
      "Epoch 10/100\n",
      "19/19 [==============================] - 0s 1ms/step - loss: 0.6716\n",
      "Epoch 11/100\n",
      "19/19 [==============================] - 0s 945us/step - loss: 0.6700\n",
      "Epoch 12/100\n",
      "19/19 [==============================] - 0s 1000us/step - loss: 0.6687\n",
      "Epoch 13/100\n",
      "19/19 [==============================] - 0s 889us/step - loss: 0.6673\n",
      "Epoch 14/100\n",
      "19/19 [==============================] - 0s 944us/step - loss: 0.6661\n",
      "Epoch 15/100\n",
      "19/19 [==============================] - 0s 944us/step - loss: 0.6648\n",
      "Epoch 16/100\n",
      "19/19 [==============================] - 0s 944us/step - loss: 0.6636\n",
      "Epoch 17/100\n",
      "19/19 [==============================] - 0s 1000us/step - loss: 0.6626\n",
      "Epoch 18/100\n",
      "19/19 [==============================] - 0s 945us/step - loss: 0.6614\n",
      "Epoch 19/100\n",
      "19/19 [==============================] - 0s 889us/step - loss: 0.6604\n",
      "Epoch 20/100\n",
      "19/19 [==============================] - 0s 889us/step - loss: 0.6595\n",
      "Epoch 21/100\n",
      "19/19 [==============================] - 0s 833us/step - loss: 0.6586\n",
      "Epoch 22/100\n",
      "19/19 [==============================] - 0s 1ms/step - loss: 0.6577\n",
      "Epoch 23/100\n",
      "19/19 [==============================] - 0s 944us/step - loss: 0.6569\n",
      "Epoch 24/100\n",
      "19/19 [==============================] - 0s 944us/step - loss: 0.6562\n",
      "Epoch 25/100\n",
      "19/19 [==============================] - 0s 889us/step - loss: 0.6555\n",
      "Epoch 26/100\n",
      "19/19 [==============================] - 0s 1000us/step - loss: 0.6547\n",
      "Epoch 27/100\n",
      "19/19 [==============================] - 0s 889us/step - loss: 0.6541\n",
      "Epoch 28/100\n",
      "19/19 [==============================] - 0s 889us/step - loss: 0.6535\n",
      "Epoch 29/100\n",
      "19/19 [==============================] - 0s 1ms/step - loss: 0.6530\n",
      "Epoch 30/100\n",
      "19/19 [==============================] - 0s 1000us/step - loss: 0.6524\n",
      "Epoch 31/100\n",
      "19/19 [==============================] - 0s 889us/step - loss: 0.6519\n",
      "Epoch 32/100\n",
      "19/19 [==============================] - 0s 889us/step - loss: 0.6515\n",
      "Epoch 33/100\n",
      "19/19 [==============================] - 0s 889us/step - loss: 0.6510\n",
      "Epoch 34/100\n",
      "19/19 [==============================] - 0s 833us/step - loss: 0.6507\n",
      "Epoch 35/100\n",
      "19/19 [==============================] - 0s 945us/step - loss: 0.6503\n",
      "Epoch 36/100\n",
      "19/19 [==============================] - 0s 1000us/step - loss: 0.6500\n",
      "Epoch 37/100\n",
      "19/19 [==============================] - 0s 944us/step - loss: 0.6497\n",
      "Epoch 38/100\n",
      "19/19 [==============================] - 0s 889us/step - loss: 0.6494\n",
      "Epoch 39/100\n",
      "19/19 [==============================] - 0s 945us/step - loss: 0.6491\n",
      "Epoch 40/100\n",
      "19/19 [==============================] - 0s 1ms/step - loss: 0.6489\n",
      "Epoch 41/100\n",
      "19/19 [==============================] - 0s 945us/step - loss: 0.6486\n",
      "Epoch 42/100\n",
      "19/19 [==============================] - 0s 1000us/step - loss: 0.6484\n",
      "Epoch 43/100\n",
      "19/19 [==============================] - 0s 889us/step - loss: 0.6482\n",
      "Epoch 44/100\n",
      "19/19 [==============================] - 0s 944us/step - loss: 0.6481\n",
      "Epoch 45/100\n",
      "19/19 [==============================] - 0s 944us/step - loss: 0.6478\n",
      "Epoch 46/100\n",
      "19/19 [==============================] - 0s 1ms/step - loss: 0.6476\n",
      "Epoch 47/100\n",
      "19/19 [==============================] - 0s 944us/step - loss: 0.6475\n",
      "Epoch 48/100\n",
      "19/19 [==============================] - 0s 945us/step - loss: 0.6473\n",
      "Epoch 49/100\n",
      "19/19 [==============================] - 0s 945us/step - loss: 0.6472\n",
      "Epoch 50/100\n",
      "19/19 [==============================] - 0s 1ms/step - loss: 0.6471\n",
      "Epoch 51/100\n",
      "19/19 [==============================] - 0s 1ms/step - loss: 0.6470\n",
      "Epoch 52/100\n",
      "19/19 [==============================] - 0s 833us/step - loss: 0.6469\n",
      "Epoch 53/100\n",
      "19/19 [==============================] - 0s 889us/step - loss: 0.6468\n",
      "Epoch 54/100\n",
      "19/19 [==============================] - 0s 1ms/step - loss: 0.6467\n",
      "Epoch 55/100\n",
      "19/19 [==============================] - 0s 1ms/step - loss: 0.6466\n",
      "Epoch 56/100\n",
      "19/19 [==============================] - 0s 1000us/step - loss: 0.6465\n",
      "Epoch 57/100\n",
      "19/19 [==============================] - 0s 833us/step - loss: 0.6464\n",
      "Epoch 58/100\n",
      "19/19 [==============================] - 0s 834us/step - loss: 0.6463\n",
      "Epoch 59/100\n",
      "19/19 [==============================] - 0s 944us/step - loss: 0.6463\n",
      "Epoch 60/100\n",
      "19/19 [==============================] - 0s 944us/step - loss: 0.6462\n",
      "Epoch 61/100\n",
      "19/19 [==============================] - 0s 944us/step - loss: 0.6462\n",
      "Epoch 62/100\n",
      "19/19 [==============================] - 0s 944us/step - loss: 0.6461\n",
      "Epoch 63/100\n",
      "19/19 [==============================] - 0s 889us/step - loss: 0.6460\n",
      "Epoch 64/100\n",
      "19/19 [==============================] - 0s 833us/step - loss: 0.6460\n",
      "Epoch 65/100\n",
      "19/19 [==============================] - 0s 1ms/step - loss: 0.6459\n",
      "Epoch 66/100\n",
      "19/19 [==============================] - 0s 1000us/step - loss: 0.6459\n",
      "Epoch 67/100\n",
      "19/19 [==============================] - 0s 1000us/step - loss: 0.6459\n",
      "Epoch 68/100\n",
      "19/19 [==============================] - 0s 1000us/step - loss: 0.6458\n",
      "Epoch 69/100\n",
      "19/19 [==============================] - 0s 1ms/step - loss: 0.6458\n",
      "Epoch 70/100\n",
      "19/19 [==============================] - 0s 944us/step - loss: 0.6458\n",
      "Epoch 71/100\n",
      "19/19 [==============================] - 0s 1000us/step - loss: 0.6458\n",
      "Epoch 72/100\n",
      "19/19 [==============================] - 0s 1ms/step - loss: 0.6457\n",
      "Epoch 73/100\n",
      "19/19 [==============================] - 0s 945us/step - loss: 0.6457\n",
      "Epoch 74/100\n",
      "19/19 [==============================] - 0s 944us/step - loss: 0.6457\n",
      "Epoch 75/100\n",
      "19/19 [==============================] - 0s 1ms/step - loss: 0.6457\n",
      "Epoch 76/100\n",
      "19/19 [==============================] - 0s 833us/step - loss: 0.6457\n",
      "Epoch 77/100\n",
      "19/19 [==============================] - 0s 944us/step - loss: 0.6457\n",
      "Epoch 78/100\n",
      "19/19 [==============================] - 0s 1ms/step - loss: 0.6456\n",
      "Epoch 79/100\n",
      "19/19 [==============================] - 0s 1ms/step - loss: 0.6456\n",
      "Epoch 80/100\n",
      "19/19 [==============================] - 0s 944us/step - loss: 0.6456\n",
      "Epoch 81/100\n",
      "19/19 [==============================] - 0s 833us/step - loss: 0.6456\n",
      "Epoch 82/100\n",
      "19/19 [==============================] - 0s 944us/step - loss: 0.6456\n",
      "Epoch 83/100\n",
      "19/19 [==============================] - 0s 945us/step - loss: 0.6456\n",
      "Epoch 84/100\n",
      "19/19 [==============================] - 0s 833us/step - loss: 0.6456\n",
      "Epoch 85/100\n",
      "19/19 [==============================] - 0s 889us/step - loss: 0.6456\n",
      "Epoch 86/100\n",
      "19/19 [==============================] - 0s 944us/step - loss: 0.6456\n",
      "Epoch 87/100\n",
      "19/19 [==============================] - 0s 889us/step - loss: 0.6455\n",
      "Epoch 88/100\n",
      "19/19 [==============================] - 0s 833us/step - loss: 0.6455\n",
      "Epoch 89/100\n",
      "19/19 [==============================] - 0s 833us/step - loss: 0.6456\n",
      "Epoch 90/100\n",
      "19/19 [==============================] - 0s 889us/step - loss: 0.6455\n",
      "Epoch 91/100\n",
      "19/19 [==============================] - 0s 944us/step - loss: 0.6456\n",
      "Epoch 92/100\n",
      "19/19 [==============================] - 0s 945us/step - loss: 0.6455\n",
      "Epoch 93/100\n",
      "19/19 [==============================] - 0s 889us/step - loss: 0.6455\n",
      "Epoch 94/100\n",
      "19/19 [==============================] - 0s 1ms/step - loss: 0.6455\n",
      "Epoch 95/100\n",
      "19/19 [==============================] - 0s 944us/step - loss: 0.6455\n",
      "Epoch 96/100\n",
      "19/19 [==============================] - 0s 889us/step - loss: 0.6455\n",
      "Epoch 97/100\n",
      "19/19 [==============================] - 0s 889us/step - loss: 0.6455\n",
      "Epoch 98/100\n",
      "19/19 [==============================] - 0s 944us/step - loss: 0.6455\n",
      "Epoch 99/100\n",
      "19/19 [==============================] - 0s 944us/step - loss: 0.6455\n",
      "Epoch 100/100\n"
     ]
    },
    {
     "name": "stdout",
     "output_type": "stream",
     "text": [
      " 1/19 [>.............................] - ETA: 0s - loss: 0.7406\b\b\b\b\b\b\b\b\b\b\b\b\b\b\b\b\b\b\b\b\b\b\b\b\b\b\b\b\b\b\b\b\b\b\b\b\b\b\b\b\b\b\b\b\b\b\b\b\b\b\b\b\b\b\b\b\b\b\b\b\b\b\b\r",
      "19/19 [==============================] - 0s 1ms/step - loss: 0.6455\n"
     ]
    }
   ],
   "source": [
    "learn = model.fit(X_train, y_train, epochs=100)"
   ]
  },
  {
   "cell_type": "code",
   "execution_count": 119,
   "id": "ce904652",
   "metadata": {},
   "outputs": [
    {
     "data": {
      "text/plain": [
       "<tensorflow.python.keras.callbacks.History at 0x1adf4eb29a0>"
      ]
     },
     "execution_count": 119,
     "metadata": {},
     "output_type": "execute_result"
    }
   ],
   "source": [
    "learn"
   ]
  },
  {
   "cell_type": "code",
   "execution_count": 118,
   "id": "ff189383",
   "metadata": {},
   "outputs": [
    {
     "ename": "TypeError",
     "evalue": "float() argument must be a string or a number, not 'History'",
     "output_type": "error",
     "traceback": [
      "\u001b[1;31m---------------------------------------------------------------------------\u001b[0m",
      "\u001b[1;31mTypeError\u001b[0m                                 Traceback (most recent call last)",
      "\u001b[1;32m<ipython-input-118-7c1c7b4212e6>\u001b[0m in \u001b[0;36m<module>\u001b[1;34m\u001b[0m\n\u001b[1;32m----> 1\u001b[1;33m \u001b[0mseaborn\u001b[0m\u001b[1;33m.\u001b[0m\u001b[0mheatmap\u001b[0m\u001b[1;33m(\u001b[0m\u001b[1;33m[\u001b[0m\u001b[1;33m[\u001b[0m\u001b[0mlearn\u001b[0m\u001b[1;33m]\u001b[0m\u001b[1;33m]\u001b[0m\u001b[1;33m)\u001b[0m\u001b[1;33m\u001b[0m\u001b[1;33m\u001b[0m\u001b[0m\n\u001b[0m",
      "\u001b[1;32m~\\anaconda3\\lib\\site-packages\\seaborn\\_decorators.py\u001b[0m in \u001b[0;36minner_f\u001b[1;34m(*args, **kwargs)\u001b[0m\n\u001b[0;32m     44\u001b[0m             )\n\u001b[0;32m     45\u001b[0m         \u001b[0mkwargs\u001b[0m\u001b[1;33m.\u001b[0m\u001b[0mupdate\u001b[0m\u001b[1;33m(\u001b[0m\u001b[1;33m{\u001b[0m\u001b[0mk\u001b[0m\u001b[1;33m:\u001b[0m \u001b[0marg\u001b[0m \u001b[1;32mfor\u001b[0m \u001b[0mk\u001b[0m\u001b[1;33m,\u001b[0m \u001b[0marg\u001b[0m \u001b[1;32min\u001b[0m \u001b[0mzip\u001b[0m\u001b[1;33m(\u001b[0m\u001b[0msig\u001b[0m\u001b[1;33m.\u001b[0m\u001b[0mparameters\u001b[0m\u001b[1;33m,\u001b[0m \u001b[0margs\u001b[0m\u001b[1;33m)\u001b[0m\u001b[1;33m}\u001b[0m\u001b[1;33m)\u001b[0m\u001b[1;33m\u001b[0m\u001b[1;33m\u001b[0m\u001b[0m\n\u001b[1;32m---> 46\u001b[1;33m         \u001b[1;32mreturn\u001b[0m \u001b[0mf\u001b[0m\u001b[1;33m(\u001b[0m\u001b[1;33m**\u001b[0m\u001b[0mkwargs\u001b[0m\u001b[1;33m)\u001b[0m\u001b[1;33m\u001b[0m\u001b[1;33m\u001b[0m\u001b[0m\n\u001b[0m\u001b[0;32m     47\u001b[0m     \u001b[1;32mreturn\u001b[0m \u001b[0minner_f\u001b[0m\u001b[1;33m\u001b[0m\u001b[1;33m\u001b[0m\u001b[0m\n\u001b[0;32m     48\u001b[0m \u001b[1;33m\u001b[0m\u001b[0m\n",
      "\u001b[1;32m~\\anaconda3\\lib\\site-packages\\seaborn\\matrix.py\u001b[0m in \u001b[0;36mheatmap\u001b[1;34m(data, vmin, vmax, cmap, center, robust, annot, fmt, annot_kws, linewidths, linecolor, cbar, cbar_kws, cbar_ax, square, xticklabels, yticklabels, mask, ax, **kwargs)\u001b[0m\n\u001b[0;32m    533\u001b[0m     \"\"\"\n\u001b[0;32m    534\u001b[0m     \u001b[1;31m# Initialize the plotter object\u001b[0m\u001b[1;33m\u001b[0m\u001b[1;33m\u001b[0m\u001b[1;33m\u001b[0m\u001b[0m\n\u001b[1;32m--> 535\u001b[1;33m     plotter = _HeatMapper(data, vmin, vmax, cmap, center, robust, annot, fmt,\n\u001b[0m\u001b[0;32m    536\u001b[0m                           \u001b[0mannot_kws\u001b[0m\u001b[1;33m,\u001b[0m \u001b[0mcbar\u001b[0m\u001b[1;33m,\u001b[0m \u001b[0mcbar_kws\u001b[0m\u001b[1;33m,\u001b[0m \u001b[0mxticklabels\u001b[0m\u001b[1;33m,\u001b[0m\u001b[1;33m\u001b[0m\u001b[1;33m\u001b[0m\u001b[0m\n\u001b[0;32m    537\u001b[0m                           yticklabels, mask)\n",
      "\u001b[1;32m~\\anaconda3\\lib\\site-packages\\seaborn\\matrix.py\u001b[0m in \u001b[0;36m__init__\u001b[1;34m(self, data, vmin, vmax, cmap, center, robust, annot, fmt, annot_kws, cbar, cbar_kws, xticklabels, yticklabels, mask)\u001b[0m\n\u001b[0;32m    153\u001b[0m \u001b[1;33m\u001b[0m\u001b[0m\n\u001b[0;32m    154\u001b[0m         \u001b[1;31m# Determine good default values for the colormapping\u001b[0m\u001b[1;33m\u001b[0m\u001b[1;33m\u001b[0m\u001b[1;33m\u001b[0m\u001b[0m\n\u001b[1;32m--> 155\u001b[1;33m         self._determine_cmap_params(plot_data, vmin, vmax,\n\u001b[0m\u001b[0;32m    156\u001b[0m                                     cmap, center, robust)\n\u001b[0;32m    157\u001b[0m \u001b[1;33m\u001b[0m\u001b[0m\n",
      "\u001b[1;32m~\\anaconda3\\lib\\site-packages\\seaborn\\matrix.py\u001b[0m in \u001b[0;36m_determine_cmap_params\u001b[1;34m(self, plot_data, vmin, vmax, cmap, center, robust)\u001b[0m\n\u001b[0;32m    187\u001b[0m \u001b[1;33m\u001b[0m\u001b[0m\n\u001b[0;32m    188\u001b[0m         \u001b[1;31m# plot_data is a np.ma.array instance\u001b[0m\u001b[1;33m\u001b[0m\u001b[1;33m\u001b[0m\u001b[1;33m\u001b[0m\u001b[0m\n\u001b[1;32m--> 189\u001b[1;33m         \u001b[0mcalc_data\u001b[0m \u001b[1;33m=\u001b[0m \u001b[0mplot_data\u001b[0m\u001b[1;33m.\u001b[0m\u001b[0mastype\u001b[0m\u001b[1;33m(\u001b[0m\u001b[0mfloat\u001b[0m\u001b[1;33m)\u001b[0m\u001b[1;33m.\u001b[0m\u001b[0mfilled\u001b[0m\u001b[1;33m(\u001b[0m\u001b[0mnp\u001b[0m\u001b[1;33m.\u001b[0m\u001b[0mnan\u001b[0m\u001b[1;33m)\u001b[0m\u001b[1;33m\u001b[0m\u001b[1;33m\u001b[0m\u001b[0m\n\u001b[0m\u001b[0;32m    190\u001b[0m         \u001b[1;32mif\u001b[0m \u001b[0mvmin\u001b[0m \u001b[1;32mis\u001b[0m \u001b[1;32mNone\u001b[0m\u001b[1;33m:\u001b[0m\u001b[1;33m\u001b[0m\u001b[1;33m\u001b[0m\u001b[0m\n\u001b[0;32m    191\u001b[0m             \u001b[1;32mif\u001b[0m \u001b[0mrobust\u001b[0m\u001b[1;33m:\u001b[0m\u001b[1;33m\u001b[0m\u001b[1;33m\u001b[0m\u001b[0m\n",
      "\u001b[1;31mTypeError\u001b[0m: float() argument must be a string or a number, not 'History'"
     ]
    }
   ],
   "source": []
  },
  {
   "cell_type": "code",
   "execution_count": null,
   "id": "9fba8df4",
   "metadata": {},
   "outputs": [],
   "source": []
  },
  {
   "cell_type": "code",
   "execution_count": null,
   "id": "44315e4c",
   "metadata": {},
   "outputs": [],
   "source": []
  }
 ],
 "metadata": {
  "kernelspec": {
   "display_name": "Python 3",
   "language": "python",
   "name": "python3"
  },
  "language_info": {
   "codemirror_mode": {
    "name": "ipython",
    "version": 3
   },
   "file_extension": ".py",
   "mimetype": "text/x-python",
   "name": "python",
   "nbconvert_exporter": "python",
   "pygments_lexer": "ipython3",
   "version": "3.8.8"
  }
 },
 "nbformat": 4,
 "nbformat_minor": 5
}
