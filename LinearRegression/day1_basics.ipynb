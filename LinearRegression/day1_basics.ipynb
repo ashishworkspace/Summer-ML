{
  "nbformat": 4,
  "nbformat_minor": 0,
  "metadata": {
    "colab": {
      "name": "day1-basics",
      "provenance": [],
      "collapsed_sections": []
    },
    "kernelspec": {
      "name": "python3",
      "display_name": "Python 3"
    },
    "language_info": {
      "name": "python"
    }
  },
  "cells": [
    {
      "cell_type": "code",
      "metadata": {
        "id": "764j5bOg77pJ"
      },
      "source": [
        "# numpy is module used to perform numerical computation\n",
        "import numpy as np"
      ],
      "execution_count": null,
      "outputs": []
    },
    {
      "cell_type": "code",
      "metadata": {
        "id": "bpyxcdx67-Xh"
      },
      "source": [
        "# 2-D array\n",
        "dynamic_arr = [[1,2,3],[4,5,6],[7,8,9]]"
      ],
      "execution_count": null,
      "outputs": []
    },
    {
      "cell_type": "code",
      "metadata": {
        "colab": {
          "base_uri": "https://localhost:8080/"
        },
        "id": "nPY7T-cN8dY5",
        "outputId": "482702fe-fb2a-4106-c271-4bddb7e6d3b5"
      },
      "source": [
        "numpy_arr = np.array(dynamic_arr)\n",
        "\n",
        "# shape() is used to find the dimension on numpy array\n",
        "numpy_arr.shape"
      ],
      "execution_count": null,
      "outputs": [
        {
          "output_type": "execute_result",
          "data": {
            "text/plain": [
              "(3, 3)"
            ]
          },
          "metadata": {
            "tags": []
          },
          "execution_count": 22
        }
      ]
    },
    {
      "cell_type": "code",
      "metadata": {
        "colab": {
          "base_uri": "https://localhost:8080/"
        },
        "id": "u7kUnR2K8mXd",
        "outputId": "c335e031-c487-4378-d6cd-7d50d8e4e70c"
      },
      "source": [
        "# Unlike list data type in python, we can perform column wise operation in numpy also\n",
        "numpy_arr[:] # row-wise operation"
      ],
      "execution_count": null,
      "outputs": [
        {
          "output_type": "execute_result",
          "data": {
            "text/plain": [
              "array([[1, 2, 3],\n",
              "       [4, 5, 6],\n",
              "       [7, 8, 9]])"
            ]
          },
          "metadata": {
            "tags": []
          },
          "execution_count": 23
        }
      ]
    },
    {
      "cell_type": "code",
      "metadata": {
        "colab": {
          "base_uri": "https://localhost:8080/"
        },
        "id": "KJrVufPg91GO",
        "outputId": "de6999b3-7b60-4c66-baf4-2d7fd60b2a26"
      },
      "source": [
        "numpy_arr[:,1] # column wise operation"
      ],
      "execution_count": null,
      "outputs": [
        {
          "output_type": "execute_result",
          "data": {
            "text/plain": [
              "array([2, 5, 8])"
            ]
          },
          "metadata": {
            "tags": []
          },
          "execution_count": 24
        }
      ]
    },
    {
      "cell_type": "code",
      "metadata": {
        "colab": {
          "base_uri": "https://localhost:8080/"
        },
        "id": "ptmc2bVP-Qp1",
        "outputId": "ba57b281-9029-4887-f91b-272c90da8056"
      },
      "source": [
        "# suppose we need to retrive 5 from matrix  3X3\n",
        "numpy_arr[:, 1][1]"
      ],
      "execution_count": null,
      "outputs": [
        {
          "output_type": "execute_result",
          "data": {
            "text/plain": [
              "5"
            ]
          },
          "metadata": {
            "tags": []
          },
          "execution_count": 25
        }
      ]
    },
    {
      "cell_type": "code",
      "metadata": {
        "colab": {
          "base_uri": "https://localhost:8080/"
        },
        "id": "q9tJeSq_-5Qk",
        "outputId": "820d290c-a953-4787-9269-2b9c7affd113"
      },
      "source": [
        "temp_var =  numpy_arr.reshape(1,9) # this will convert the shape of matrix. And the arguments are => (row, column)\n",
        "temp_var"
      ],
      "execution_count": null,
      "outputs": [
        {
          "output_type": "execute_result",
          "data": {
            "text/plain": [
              "array([[1, 2, 3, 4, 5, 6, 7, 8, 9]])"
            ]
          },
          "metadata": {
            "tags": []
          },
          "execution_count": 26
        }
      ]
    },
    {
      "cell_type": "code",
      "metadata": {
        "colab": {
          "base_uri": "https://localhost:8080/"
        },
        "id": "yd7tyGvj_GPH",
        "outputId": "1e8d1b5c-5b2d-4f26-ca43-dcc4e3d92898"
      },
      "source": [
        "temp_var.shape"
      ],
      "execution_count": null,
      "outputs": [
        {
          "output_type": "execute_result",
          "data": {
            "text/plain": [
              "(1, 9)"
            ]
          },
          "metadata": {
            "tags": []
          },
          "execution_count": 27
        }
      ]
    },
    {
      "cell_type": "code",
      "metadata": {
        "colab": {
          "base_uri": "https://localhost:8080/"
        },
        "id": "Wg76dD9a_0Gn",
        "outputId": "670d2a76-0795-40e1-c654-857f502ea4f5"
      },
      "source": [
        "# reshape(-1, 1) will change the order of matrix i.e. row will become column and column will become row\n",
        "temp_var.reshape(-1,1)"
      ],
      "execution_count": null,
      "outputs": [
        {
          "output_type": "execute_result",
          "data": {
            "text/plain": [
              "array([[1],\n",
              "       [2],\n",
              "       [3],\n",
              "       [4],\n",
              "       [5],\n",
              "       [6],\n",
              "       [7],\n",
              "       [8],\n",
              "       [9]])"
            ]
          },
          "metadata": {
            "tags": []
          },
          "execution_count": 28
        }
      ]
    },
    {
      "cell_type": "code",
      "metadata": {
        "id": "DwsTb5kiAD14"
      },
      "source": [
        ""
      ],
      "execution_count": null,
      "outputs": []
    }
  ]
}