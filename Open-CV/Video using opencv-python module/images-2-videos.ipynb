{
 "cells": [
  {
   "cell_type": "code",
   "execution_count": 1,
   "id": "43b1ae1d",
   "metadata": {},
   "outputs": [],
   "source": [
    "import cv2"
   ]
  },
  {
   "cell_type": "code",
   "execution_count": 2,
   "id": "43acff6e",
   "metadata": {},
   "outputs": [
    {
     "data": {
      "text/plain": [
       "(480, 640, 3)"
      ]
     },
     "execution_count": 2,
     "metadata": {},
     "output_type": "execute_result"
    }
   ],
   "source": [
    "photo = cv2.VideoCapture(0)\n",
    "returnCode, actualPhoto =  photo.read()\n",
    "photo.release()\n",
    "actualPhoto.shape"
   ]
  },
  {
   "cell_type": "code",
   "execution_count": null,
   "id": "68b2a221",
   "metadata": {},
   "outputs": [],
   "source": [
    "cv2.imshow(\"hi\", actualPhoto)\n",
    "cv2.waitKey() \n",
    "cv2.destroyAllWindows()"
   ]
  },
  {
   "cell_type": "code",
   "execution_count": 2,
   "id": "f61a14ed",
   "metadata": {},
   "outputs": [],
   "source": [
    "photo = cv2.VideoCapture(0)\n",
    "while True:\n",
    "    returnCode, actualPhoto =  photo.read()\n",
    "    cv2.imshow(\"hi\", actualPhoto)\n",
    "    if cv2.waitKey(3) == 13:\n",
    "        break\n",
    "cv2.destroyAllWindows()\n",
    "photo.release()"
   ]
  },
  {
   "cell_type": "code",
   "execution_count": null,
   "id": "0fbff363",
   "metadata": {},
   "outputs": [],
   "source": []
  }
 ],
 "metadata": {
  "kernelspec": {
   "display_name": "Python 3",
   "language": "python",
   "name": "python3"
  },
  "language_info": {
   "codemirror_mode": {
    "name": "ipython",
    "version": 3
   },
   "file_extension": ".py",
   "mimetype": "text/x-python",
   "name": "python",
   "nbconvert_exporter": "python",
   "pygments_lexer": "ipython3",
   "version": "3.8.8"
  }
 },
 "nbformat": 4,
 "nbformat_minor": 5
}
