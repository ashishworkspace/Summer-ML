{
 "cells": [
  {
   "cell_type": "code",
   "execution_count": 19,
   "id": "dd94cb6b",
   "metadata": {},
   "outputs": [],
   "source": [
    "import cv2"
   ]
  },
  {
   "cell_type": "code",
   "execution_count": 20,
   "id": "6837af75",
   "metadata": {},
   "outputs": [],
   "source": [
    "photo = cv2.VideoCapture(0)"
   ]
  },
  {
   "cell_type": "code",
   "execution_count": 21,
   "id": "a43a4faa",
   "metadata": {},
   "outputs": [],
   "source": [
    "returnval , capturePhoto = photo.read()"
   ]
  },
  {
   "cell_type": "code",
   "execution_count": 22,
   "id": "6efe1732",
   "metadata": {},
   "outputs": [],
   "source": [
    "photo.release()"
   ]
  },
  {
   "cell_type": "code",
   "execution_count": 23,
   "id": "a8026034",
   "metadata": {},
   "outputs": [
    {
     "data": {
      "text/plain": [
       "True"
      ]
     },
     "execution_count": 23,
     "metadata": {},
     "output_type": "execute_result"
    }
   ],
   "source": [
    "returnval"
   ]
  },
  {
   "cell_type": "code",
   "execution_count": 24,
   "id": "4e7a6574",
   "metadata": {},
   "outputs": [],
   "source": [
    "cv2.imshow(\"hello.jpg\", capturePhoto)\n",
    "cv2.waitKey()\n",
    "cv2.destroyAllWindows()"
   ]
  },
  {
   "cell_type": "code",
   "execution_count": null,
   "id": "e06d8a26",
   "metadata": {},
   "outputs": [],
   "source": [
    "\n"
   ]
  }
 ],
 "metadata": {
  "kernelspec": {
   "display_name": "Python 3",
   "language": "python",
   "name": "python3"
  },
  "language_info": {
   "codemirror_mode": {
    "name": "ipython",
    "version": 3
   },
   "file_extension": ".py",
   "mimetype": "text/x-python",
   "name": "python",
   "nbconvert_exporter": "python",
   "pygments_lexer": "ipython3",
   "version": "3.8.8"
  }
 },
 "nbformat": 4,
 "nbformat_minor": 5
}
