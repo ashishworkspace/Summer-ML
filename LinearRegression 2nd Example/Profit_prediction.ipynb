{
 "cells": [
  {
   "cell_type": "code",
   "execution_count": 1,
   "id": "708f13e8",
   "metadata": {},
   "outputs": [],
   "source": [
    "# import pandas library to read csv file from dsk\n",
    "import pandas"
   ]
  },
  {
   "cell_type": "code",
   "execution_count": 2,
   "id": "92cad99a",
   "metadata": {},
   "outputs": [],
   "source": [
    "# loading csv file from disk to ram inside a variable name database\n",
    "database = pandas.read_csv('50_Startups.csv')"
   ]
  },
  {
   "cell_type": "code",
   "execution_count": 3,
   "id": "47d753b5",
   "metadata": {},
   "outputs": [
    {
     "data": {
      "text/plain": [
       "Index(['R&D Spend', 'Administration', 'Marketing Spend', 'State', 'Profit'], dtype='object')"
      ]
     },
     "execution_count": 3,
     "metadata": {},
     "output_type": "execute_result"
    }
   ],
   "source": [
    "# prining all the column present in dataset \n",
    "database.columns"
   ]
  },
  {
   "cell_type": "code",
   "execution_count": 4,
   "id": "5e50b3ac",
   "metadata": {},
   "outputs": [
    {
     "data": {
      "text/html": [
       "<div>\n",
       "<style scoped>\n",
       "    .dataframe tbody tr th:only-of-type {\n",
       "        vertical-align: middle;\n",
       "    }\n",
       "\n",
       "    .dataframe tbody tr th {\n",
       "        vertical-align: top;\n",
       "    }\n",
       "\n",
       "    .dataframe thead th {\n",
       "        text-align: right;\n",
       "    }\n",
       "</style>\n",
       "<table border=\"1\" class=\"dataframe\">\n",
       "  <thead>\n",
       "    <tr style=\"text-align: right;\">\n",
       "      <th></th>\n",
       "      <th>R&amp;D Spend</th>\n",
       "      <th>Administration</th>\n",
       "      <th>Marketing Spend</th>\n",
       "      <th>State</th>\n",
       "      <th>Profit</th>\n",
       "    </tr>\n",
       "  </thead>\n",
       "  <tbody>\n",
       "    <tr>\n",
       "      <th>0</th>\n",
       "      <td>165349.20</td>\n",
       "      <td>136897.80</td>\n",
       "      <td>471784.10</td>\n",
       "      <td>New York</td>\n",
       "      <td>192261.83</td>\n",
       "    </tr>\n",
       "    <tr>\n",
       "      <th>1</th>\n",
       "      <td>162597.70</td>\n",
       "      <td>151377.59</td>\n",
       "      <td>443898.53</td>\n",
       "      <td>California</td>\n",
       "      <td>191792.06</td>\n",
       "    </tr>\n",
       "    <tr>\n",
       "      <th>2</th>\n",
       "      <td>153441.51</td>\n",
       "      <td>101145.55</td>\n",
       "      <td>407934.54</td>\n",
       "      <td>Florida</td>\n",
       "      <td>191050.39</td>\n",
       "    </tr>\n",
       "    <tr>\n",
       "      <th>3</th>\n",
       "      <td>144372.41</td>\n",
       "      <td>118671.85</td>\n",
       "      <td>383199.62</td>\n",
       "      <td>New York</td>\n",
       "      <td>182901.99</td>\n",
       "    </tr>\n",
       "    <tr>\n",
       "      <th>4</th>\n",
       "      <td>142107.34</td>\n",
       "      <td>91391.77</td>\n",
       "      <td>366168.42</td>\n",
       "      <td>Florida</td>\n",
       "      <td>166187.94</td>\n",
       "    </tr>\n",
       "  </tbody>\n",
       "</table>\n",
       "</div>"
      ],
      "text/plain": [
       "   R&D Spend  Administration  Marketing Spend       State     Profit\n",
       "0  165349.20       136897.80        471784.10    New York  192261.83\n",
       "1  162597.70       151377.59        443898.53  California  191792.06\n",
       "2  153441.51       101145.55        407934.54     Florida  191050.39\n",
       "3  144372.41       118671.85        383199.62    New York  182901.99\n",
       "4  142107.34        91391.77        366168.42     Florida  166187.94"
      ]
     },
     "execution_count": 4,
     "metadata": {},
     "output_type": "execute_result"
    }
   ],
   "source": [
    "# printing only 5 rows using head function\n",
    "database.head(5)"
   ]
  },
  {
   "cell_type": "code",
   "execution_count": 5,
   "id": "1dffdf2f",
   "metadata": {},
   "outputs": [],
   "source": [
    "# since 4th field is Categorical variable\n",
    "X_initial = database.values[: , :3]"
   ]
  },
  {
   "cell_type": "code",
   "execution_count": 6,
   "id": "0e0b357e",
   "metadata": {},
   "outputs": [],
   "source": [
    "# printing the 4th field of the  dataset\n",
    "X_state = database.values[: , 3]\n",
    "# x.shape  (50,)"
   ]
  },
  {
   "cell_type": "code",
   "execution_count": 7,
   "id": "de64af9f",
   "metadata": {},
   "outputs": [],
   "source": [
    "# Converting 1D to 2D \n",
    "X_state_reshape = X_state.reshape(-1,1)"
   ]
  },
  {
   "cell_type": "code",
   "execution_count": 8,
   "id": "d2a84109",
   "metadata": {},
   "outputs": [],
   "source": [
    "# LabelEncoder is the function used to provide label to Categorical data \n",
    "from sklearn.preprocessing import LabelEncoder"
   ]
  },
  {
   "cell_type": "code",
   "execution_count": 9,
   "id": "017b8310",
   "metadata": {},
   "outputs": [],
   "source": [
    "# storing the LabelEncoder() function in var_le\n",
    "var_le = LabelEncoder()"
   ]
  },
  {
   "cell_type": "code",
   "execution_count": 10,
   "id": "c3e498d2",
   "metadata": {},
   "outputs": [],
   "source": [
    "# we need to fit the data in \n",
    "label_for_state = var_le.fit_transform(X_state)"
   ]
  },
  {
   "cell_type": "code",
   "execution_count": 11,
   "id": "b9d73ce0",
   "metadata": {},
   "outputs": [],
   "source": [
    "# OneHotEncoder is the function used to convert to\n",
    "# fit and transform the data from Categorical Variable lables into sparse matrix dummy variable .\n",
    "from sklearn.preprocessing import OneHotEncoder"
   ]
  },
  {
   "cell_type": "code",
   "execution_count": 12,
   "id": "017abe60",
   "metadata": {},
   "outputs": [],
   "source": [
    "# storing the OneHotEncoder() function into var_ohe variable\n",
    "var_ohe = OneHotEncoder()"
   ]
  },
  {
   "cell_type": "code",
   "execution_count": 13,
   "id": "b7a0b16f",
   "metadata": {},
   "outputs": [],
   "source": [
    "# Converting labels into dummy variable instance\n",
    "sparse_matrix_dummy_var = var_ohe.fit_transform(X_state_reshape)"
   ]
  },
  {
   "cell_type": "code",
   "execution_count": 14,
   "id": "e4728ca5",
   "metadata": {},
   "outputs": [],
   "source": [
    "# to retrive the dummy variable value in array format we use toarray() function \n",
    "sparse_arr = sparse_matrix_dummy_var.toarray()"
   ]
  },
  {
   "cell_type": "code",
   "execution_count": 15,
   "id": "98c4553d",
   "metadata": {},
   "outputs": [],
   "source": [
    "# to avoid Dummy variable trap \n",
    "new_dummy_var = sparse_arr[: , :2]"
   ]
  },
  {
   "cell_type": "code",
   "execution_count": 16,
   "id": "09901229",
   "metadata": {},
   "outputs": [],
   "source": [
    "# importing numpy to perform numerical calculations\n",
    "import numpy"
   ]
  },
  {
   "cell_type": "code",
   "execution_count": 17,
   "id": "d1ef20d1",
   "metadata": {},
   "outputs": [],
   "source": [
    "# hstack() accept tuple\n",
    "# Now to merge the value X_initial and newly dummy value together horizonally\n",
    "# we use numpy hstack() function\n",
    "X_final = numpy.hstack((X_initial, new_dummy_var))"
   ]
  },
  {
   "cell_type": "code",
   "execution_count": 18,
   "id": "f1b2b405",
   "metadata": {},
   "outputs": [
    {
     "data": {
      "text/plain": [
       "array([[165349.2, 136897.8, 471784.1, 0.0, 0.0],\n",
       "       [162597.7, 151377.59, 443898.53, 1.0, 0.0],\n",
       "       [153441.51, 101145.55, 407934.54, 0.0, 1.0],\n",
       "       [144372.41, 118671.85, 383199.62, 0.0, 0.0],\n",
       "       [142107.34, 91391.77, 366168.42, 0.0, 1.0],\n",
       "       [131876.9, 99814.71, 362861.36, 0.0, 0.0],\n",
       "       [134615.46, 147198.87, 127716.82, 1.0, 0.0],\n",
       "       [130298.13, 145530.06, 323876.68, 0.0, 1.0],\n",
       "       [120542.52, 148718.95, 311613.29, 0.0, 0.0],\n",
       "       [123334.88, 108679.17, 304981.62, 1.0, 0.0],\n",
       "       [101913.08, 110594.11, 229160.95, 0.0, 1.0],\n",
       "       [100671.96, 91790.61, 249744.55, 1.0, 0.0],\n",
       "       [93863.75, 127320.38, 249839.44, 0.0, 1.0],\n",
       "       [91992.39, 135495.07, 252664.93, 1.0, 0.0],\n",
       "       [119943.24, 156547.42, 256512.92, 0.0, 1.0],\n",
       "       [114523.61, 122616.84, 261776.23, 0.0, 0.0],\n",
       "       [78013.11, 121597.55, 264346.06, 1.0, 0.0],\n",
       "       [94657.16, 145077.58, 282574.31, 0.0, 0.0],\n",
       "       [91749.16, 114175.79, 294919.57, 0.0, 1.0],\n",
       "       [86419.7, 153514.11, 0.0, 0.0, 0.0],\n",
       "       [76253.86, 113867.3, 298664.47, 1.0, 0.0],\n",
       "       [78389.47, 153773.43, 299737.29, 0.0, 0.0],\n",
       "       [73994.56, 122782.75, 303319.26, 0.0, 1.0],\n",
       "       [67532.53, 105751.03, 304768.73, 0.0, 1.0],\n",
       "       [77044.01, 99281.34, 140574.81, 0.0, 0.0],\n",
       "       [64664.71, 139553.16, 137962.62, 1.0, 0.0],\n",
       "       [75328.87, 144135.98, 134050.07, 0.0, 1.0],\n",
       "       [72107.6, 127864.55, 353183.81, 0.0, 0.0],\n",
       "       [66051.52, 182645.56, 118148.2, 0.0, 1.0],\n",
       "       [65605.48, 153032.06, 107138.38, 0.0, 0.0],\n",
       "       [61994.48, 115641.28, 91131.24, 0.0, 1.0],\n",
       "       [61136.38, 152701.92, 88218.23, 0.0, 0.0],\n",
       "       [63408.86, 129219.61, 46085.25, 1.0, 0.0],\n",
       "       [55493.95, 103057.49, 214634.81, 0.0, 1.0],\n",
       "       [46426.07, 157693.92, 210797.67, 1.0, 0.0],\n",
       "       [46014.02, 85047.44, 205517.64, 0.0, 0.0],\n",
       "       [28663.76, 127056.21, 201126.82, 0.0, 1.0],\n",
       "       [44069.95, 51283.14, 197029.42, 1.0, 0.0],\n",
       "       [20229.59, 65947.93, 185265.1, 0.0, 0.0],\n",
       "       [38558.51, 82982.09, 174999.3, 1.0, 0.0],\n",
       "       [28754.33, 118546.05, 172795.67, 1.0, 0.0],\n",
       "       [27892.92, 84710.77, 164470.71, 0.0, 1.0],\n",
       "       [23640.93, 96189.63, 148001.11, 1.0, 0.0],\n",
       "       [15505.73, 127382.3, 35534.17, 0.0, 0.0],\n",
       "       [22177.74, 154806.14, 28334.72, 1.0, 0.0],\n",
       "       [1000.23, 124153.04, 1903.93, 0.0, 0.0],\n",
       "       [1315.46, 115816.21, 297114.46, 0.0, 1.0],\n",
       "       [0.0, 135426.92, 0.0, 1.0, 0.0],\n",
       "       [542.05, 51743.15, 0.0, 0.0, 0.0],\n",
       "       [0.0, 116983.8, 45173.06, 1.0, 0.0]], dtype=object)"
      ]
     },
     "execution_count": 18,
     "metadata": {},
     "output_type": "execute_result"
    }
   ],
   "source": [
    "X_final"
   ]
  },
  {
   "cell_type": "code",
   "execution_count": null,
   "id": "6dcff264",
   "metadata": {},
   "outputs": [],
   "source": []
  }
 ],
 "metadata": {
  "kernelspec": {
   "display_name": "Python 3",
   "language": "python",
   "name": "python3"
  },
  "language_info": {
   "codemirror_mode": {
    "name": "ipython",
    "version": 3
   },
   "file_extension": ".py",
   "mimetype": "text/x-python",
   "name": "python",
   "nbconvert_exporter": "python",
   "pygments_lexer": "ipython3",
   "version": "3.8.8"
  }
 },
 "nbformat": 4,
 "nbformat_minor": 5
}
