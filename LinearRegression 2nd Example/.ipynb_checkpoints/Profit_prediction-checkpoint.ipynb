{
 "cells": [
  {
   "cell_type": "code",
   "execution_count": 17,
   "id": "41415974",
   "metadata": {},
   "outputs": [],
   "source": [
    "# import pandas library to read csv file from dsk\n",
    "import pandas"
   ]
  },
  {
   "cell_type": "code",
   "execution_count": 18,
   "id": "e0b209c7",
   "metadata": {},
   "outputs": [],
   "source": [
    "# loading csv file from disk to ram inside a variable name database\n",
    "database = pandas.read_csv('50_Startups.csv')"
   ]
  },
  {
   "cell_type": "code",
   "execution_count": 19,
   "id": "ac629494",
   "metadata": {},
   "outputs": [
    {
     "data": {
      "text/plain": [
       "Index(['R&D Spend', 'Administration', 'Marketing Spend', 'State', 'Profit'], dtype='object')"
      ]
     },
     "execution_count": 19,
     "metadata": {},
     "output_type": "execute_result"
    }
   ],
   "source": [
    "# prining all the column present in dataset \n",
    "database.columns"
   ]
  },
  {
   "cell_type": "code",
   "execution_count": 20,
   "id": "dafcb820",
   "metadata": {},
   "outputs": [
    {
     "data": {
      "text/html": [
       "<div>\n",
       "<style scoped>\n",
       "    .dataframe tbody tr th:only-of-type {\n",
       "        vertical-align: middle;\n",
       "    }\n",
       "\n",
       "    .dataframe tbody tr th {\n",
       "        vertical-align: top;\n",
       "    }\n",
       "\n",
       "    .dataframe thead th {\n",
       "        text-align: right;\n",
       "    }\n",
       "</style>\n",
       "<table border=\"1\" class=\"dataframe\">\n",
       "  <thead>\n",
       "    <tr style=\"text-align: right;\">\n",
       "      <th></th>\n",
       "      <th>R&amp;D Spend</th>\n",
       "      <th>Administration</th>\n",
       "      <th>Marketing Spend</th>\n",
       "      <th>State</th>\n",
       "      <th>Profit</th>\n",
       "    </tr>\n",
       "  </thead>\n",
       "  <tbody>\n",
       "    <tr>\n",
       "      <th>0</th>\n",
       "      <td>165349.20</td>\n",
       "      <td>136897.80</td>\n",
       "      <td>471784.10</td>\n",
       "      <td>New York</td>\n",
       "      <td>192261.83</td>\n",
       "    </tr>\n",
       "    <tr>\n",
       "      <th>1</th>\n",
       "      <td>162597.70</td>\n",
       "      <td>151377.59</td>\n",
       "      <td>443898.53</td>\n",
       "      <td>California</td>\n",
       "      <td>191792.06</td>\n",
       "    </tr>\n",
       "    <tr>\n",
       "      <th>2</th>\n",
       "      <td>153441.51</td>\n",
       "      <td>101145.55</td>\n",
       "      <td>407934.54</td>\n",
       "      <td>Florida</td>\n",
       "      <td>191050.39</td>\n",
       "    </tr>\n",
       "    <tr>\n",
       "      <th>3</th>\n",
       "      <td>144372.41</td>\n",
       "      <td>118671.85</td>\n",
       "      <td>383199.62</td>\n",
       "      <td>New York</td>\n",
       "      <td>182901.99</td>\n",
       "    </tr>\n",
       "    <tr>\n",
       "      <th>4</th>\n",
       "      <td>142107.34</td>\n",
       "      <td>91391.77</td>\n",
       "      <td>366168.42</td>\n",
       "      <td>Florida</td>\n",
       "      <td>166187.94</td>\n",
       "    </tr>\n",
       "  </tbody>\n",
       "</table>\n",
       "</div>"
      ],
      "text/plain": [
       "   R&D Spend  Administration  Marketing Spend       State     Profit\n",
       "0  165349.20       136897.80        471784.10    New York  192261.83\n",
       "1  162597.70       151377.59        443898.53  California  191792.06\n",
       "2  153441.51       101145.55        407934.54     Florida  191050.39\n",
       "3  144372.41       118671.85        383199.62    New York  182901.99\n",
       "4  142107.34        91391.77        366168.42     Florida  166187.94"
      ]
     },
     "execution_count": 20,
     "metadata": {},
     "output_type": "execute_result"
    }
   ],
   "source": [
    "# printing only 5 rows using head function\n",
    "database.head(5)"
   ]
  },
  {
   "cell_type": "code",
   "execution_count": 21,
   "id": "2176c53d",
   "metadata": {},
   "outputs": [],
   "source": [
    "# since 4th field is Categorical variable\n",
    "X_initial = database.values[: , :3]"
   ]
  },
  {
   "cell_type": "code",
   "execution_count": 22,
   "id": "103814df",
   "metadata": {},
   "outputs": [],
   "source": [
    "# printing the 4th field of the  dataset\n",
    "X_state = database.values[: , 3]\n",
    "# x.shape  (50,)"
   ]
  },
  {
   "cell_type": "code",
   "execution_count": 23,
   "id": "4d750947",
   "metadata": {},
   "outputs": [],
   "source": [
    "# Converting 1D to 2D \n",
    "X_state_reshape = X_state.reshape(-1,1)"
   ]
  },
  {
   "cell_type": "code",
   "execution_count": 24,
   "id": "908c8446",
   "metadata": {},
   "outputs": [],
   "source": [
    "# LabelEncoder is the function used to provide label to Categorical data \n",
    "from sklearn.preprocessing import LabelEncoder"
   ]
  },
  {
   "cell_type": "code",
   "execution_count": 25,
   "id": "ecc4dc1d",
   "metadata": {},
   "outputs": [],
   "source": [
    "# storing the LabelEncoder() function in var_le\n",
    "var_le = LabelEncoder()"
   ]
  },
  {
   "cell_type": "code",
   "execution_count": 26,
   "id": "40a7cb7f",
   "metadata": {},
   "outputs": [],
   "source": [
    "# we need to fit the data in \n",
    "label_for_state = var_le.fit_transform(X_state)"
   ]
  },
  {
   "cell_type": "code",
   "execution_count": 12,
   "id": "41175b3e",
   "metadata": {},
   "outputs": [],
   "source": [
    "# OneHotEncoder is the function used to convert to\n",
    "# fit and transform the data from Categorical Variable lables into sparse matrix dummy variable .\n",
    "from sklearn.preprocessing import OneHotEncoder"
   ]
  },
  {
   "cell_type": "code",
   "execution_count": 27,
   "id": "478ff1a7",
   "metadata": {},
   "outputs": [],
   "source": [
    "# storing the OneHotEncoder() function into var_ohe variable\n",
    "var_ohe = OneHotEncoder()"
   ]
  },
  {
   "cell_type": "code",
   "execution_count": 28,
   "id": "ca688e4c",
   "metadata": {},
   "outputs": [],
   "source": [
    "# Converting labels into dummy variable instance\n",
    "sparse_matrix_dummy_var = var_ohe.fit_transform(X_state_reshape)"
   ]
  },
  {
   "cell_type": "code",
   "execution_count": 15,
   "id": "48305648",
   "metadata": {},
   "outputs": [],
   "source": [
    "# to retrive the dummy variable value in array format we use toarray() function \n",
    "sparse_arr = sparse_matrix_dummy_var.toarray()"
   ]
  },
  {
   "cell_type": "code",
   "execution_count": 16,
   "id": "5667187c",
   "metadata": {},
   "outputs": [],
   "source": [
    "# to avoid Dummy variable trap \n",
    "new_dummy_var = sparse_arr[:,:2]"
   ]
  },
  {
   "cell_type": "code",
   "execution_count": null,
   "id": "b31de211",
   "metadata": {},
   "outputs": [],
   "source": [
    "import numpy"
   ]
  },
  {
   "cell_type": "code",
   "execution_count": null,
   "id": "1eb87f9f",
   "metadata": {},
   "outputs": [],
   "source": [
    "X_final = numpy.hstack((X_initial, new_dummy_var))"
   ]
  },
  {
   "cell_type": "code",
   "execution_count": null,
   "id": "5be08de6",
   "metadata": {},
   "outputs": [],
   "source": []
  }
 ],
 "metadata": {
  "kernelspec": {
   "display_name": "Python 3",
   "language": "python",
   "name": "python3"
  },
  "language_info": {
   "codemirror_mode": {
    "name": "ipython",
    "version": 3
   },
   "file_extension": ".py",
   "mimetype": "text/x-python",
   "name": "python",
   "nbconvert_exporter": "python",
   "pygments_lexer": "ipython3",
   "version": "3.8.8"
  }
 },
 "nbformat": 4,
 "nbformat_minor": 5
}
