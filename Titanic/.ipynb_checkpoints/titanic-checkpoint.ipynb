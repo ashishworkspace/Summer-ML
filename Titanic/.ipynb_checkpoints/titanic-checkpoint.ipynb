{
 "cells": [
  {
   "cell_type": "code",
   "execution_count": null,
   "id": "a0d25bd1",
   "metadata": {},
   "outputs": [],
   "source": [
    "import pandas\n",
    "database = pandas.read_csv('titanic_train.csv')"
   ]
  },
  {
   "cell_type": "code",
   "execution_count": null,
   "id": "2a91313c",
   "metadata": {},
   "outputs": [],
   "source": [
    "database.columns"
   ]
  },
  {
   "cell_type": "code",
   "execution_count": null,
   "id": "ea5f99fe",
   "metadata": {},
   "outputs": [],
   "source": [
    "gender = database['Sex']"
   ]
  },
  {
   "cell_type": "code",
   "execution_count": null,
   "id": "d85ca967",
   "metadata": {},
   "outputs": [],
   "source": [
    "survive = database['Survived']"
   ]
  },
  {
   "cell_type": "code",
   "execution_count": null,
   "id": "1ab0e1f8",
   "metadata": {},
   "outputs": [],
   "source": [
    "import seaborn"
   ]
  },
  {
   "cell_type": "code",
   "execution_count": null,
   "id": "55fa3178",
   "metadata": {},
   "outputs": [],
   "source": [
    "seaborn.countplot(gender)"
   ]
  },
  {
   "cell_type": "code",
   "execution_count": null,
   "id": "b198b35c",
   "metadata": {},
   "outputs": [],
   "source": [
    "seaborn.countplot(survive)"
   ]
  },
  {
   "cell_type": "code",
   "execution_count": null,
   "id": "a53d8d9e",
   "metadata": {},
   "outputs": [],
   "source": [
    "seaborn.countplot(gender, hue='Survived', data=database)"
   ]
  },
  {
   "cell_type": "code",
   "execution_count": null,
   "id": "9b7b167e",
   "metadata": {},
   "outputs": [],
   "source": [
    "seaborn.countplot(survive, hue='Pclass', data=database)"
   ]
  },
  {
   "cell_type": "code",
   "execution_count": null,
   "id": "59940baf",
   "metadata": {},
   "outputs": [],
   "source": [
    "X = database[[ 'Pclass', 'Sex', 'Age', 'SibSp',\n",
    "       'Parch', 'Cabin', 'Embarked']]"
   ]
  },
  {
   "cell_type": "code",
   "execution_count": null,
   "id": "d7cfb54c",
   "metadata": {},
   "outputs": [],
   "source": [
    "X.head(3)"
   ]
  },
  {
   "cell_type": "code",
   "execution_count": null,
   "id": "03d217aa",
   "metadata": {},
   "outputs": [],
   "source": [
    "y = database[['Survived']]"
   ]
  },
  {
   "cell_type": "code",
   "execution_count": null,
   "id": "3e36805e",
   "metadata": {},
   "outputs": [],
   "source": [
    "y.head(3)"
   ]
  },
  {
   "cell_type": "code",
   "execution_count": null,
   "id": "0039546c",
   "metadata": {},
   "outputs": [],
   "source": [
    "# this will return all the place in dataset which has null value\n",
    "X.isnull()"
   ]
  },
  {
   "cell_type": "code",
   "execution_count": null,
   "id": "15c12b8b",
   "metadata": {},
   "outputs": [],
   "source": [
    "seaborn.heatmap(X.isnull())"
   ]
  },
  {
   "cell_type": "markdown",
   "id": "471f3059",
   "metadata": {},
   "source": [
    "As we can see clearly that the Cabin field has lot of missing value so It is better to remove that field"
   ]
  },
  {
   "cell_type": "code",
   "execution_count": null,
   "id": "2c757355",
   "metadata": {},
   "outputs": [],
   "source": [
    "# axis 0 = Row and axix 1 = Column (Here we need to drop column)\n",
    "# labels = the field we need to drop\n",
    "# inplace = True (means that after droping the field return the change in the dataset )\n",
    "X.drop(axis=1, labels='Cabin', inplace=True)"
   ]
  },
  {
   "cell_type": "code",
   "execution_count": null,
   "id": "d420613a",
   "metadata": {},
   "outputs": [],
   "source": [
    "X.head(3)"
   ]
  },
  {
   "cell_type": "code",
   "execution_count": null,
   "id": "f72824e0",
   "metadata": {},
   "outputs": [],
   "source": [
    "seaborn.heatmap(X.isnull())"
   ]
  },
  {
   "cell_type": "markdown",
   "id": "4a2b7180",
   "metadata": {},
   "source": [
    "Since the age field also has some missing values, but we will not remove them. "
   ]
  },
  {
   "cell_type": "code",
   "execution_count": null,
   "id": "92358a3c",
   "metadata": {},
   "outputs": [],
   "source": [
    "seaborn.boxplot(y='Age', x='Pclass' , data=X)"
   ]
  },
  {
   "cell_type": "markdown",
   "id": "c3f1e715",
   "metadata": {},
   "source": []
  },
  {
   "cell_type": "code",
   "execution_count": null,
   "id": "8f111d53",
   "metadata": {},
   "outputs": [],
   "source": [
    "X"
   ]
  },
  {
   "cell_type": "code",
   "execution_count": null,
   "id": "be3c97c1",
   "metadata": {},
   "outputs": [],
   "source": [
    "from sklearn.preprocessing import LabelEncoder "
   ]
  },
  {
   "cell_type": "code",
   "execution_count": null,
   "id": "9b28f977",
   "metadata": {},
   "outputs": [],
   "source": [
    "# storing LabelEncoging function inside le_func variable\n",
    "le_func = LabelEncoder()"
   ]
  },
  {
   "cell_type": "code",
   "execution_count": null,
   "id": "e180ecc1",
   "metadata": {},
   "outputs": [],
   "source": [
    "# converting Pclass into label encoding\n",
    "le = le_func.fit_transform(X['Pclass'])\n",
    "\n",
    "# changing the dimension into 2D\n",
    "le = le.reshape(-1,1)"
   ]
  },
  {
   "cell_type": "code",
   "execution_count": null,
   "id": "36fde600",
   "metadata": {},
   "outputs": [],
   "source": [
    "from sklearn.preprocessing import OneHotEncoder"
   ]
  },
  {
   "cell_type": "code",
   "execution_count": null,
   "id": "45e1998a",
   "metadata": {},
   "outputs": [],
   "source": [
    "# storeing OneHotEncoder function in variable ohe_func\n",
    "ohe_func = OneHotEncoder()"
   ]
  },
  {
   "cell_type": "code",
   "execution_count": null,
   "id": "309f65f7",
   "metadata": {},
   "outputs": [],
   "source": [
    "# for converting categorical variable into dummy variable\n",
    "ohe = ohe_func.fit_transform(le)"
   ]
  },
  {
   "cell_type": "code",
   "execution_count": null,
   "id": "4e19973a",
   "metadata": {},
   "outputs": [],
   "source": [
    "# converting dummy variable into array\n",
    "ohe_arr = ohe.toarray()"
   ]
  },
  {
   "cell_type": "code",
   "execution_count": null,
   "id": "f832c624",
   "metadata": {},
   "outputs": [],
   "source": [
    "# droping one field to avoid dummy variable trap\n",
    "ohe_final = ohe_arr[:,:2]"
   ]
  },
  {
   "cell_type": "code",
   "execution_count": null,
   "id": "b1a54ce9",
   "metadata": {},
   "outputs": [],
   "source": [
    "y_age = database['Age']\n",
    "# converting into numpy\n",
    "y_age = y_age.values\n",
    "y_age = y_age.reshape(-1,1)"
   ]
  },
  {
   "cell_type": "code",
   "execution_count": null,
   "id": "3d3d18fa",
   "metadata": {},
   "outputs": [],
   "source": [
    "import numpy \n",
    "\n",
    "#combining both x and y field horizontally\n",
    "newval = numpy.hstack((ohe_final, y_age))\n",
    "\n",
    "# droping all the rows in numpy which has NaN value\n",
    "newval = newval[~numpy.isnan(newval).any(axis=1)]\n",
    "\n",
    "\n",
    "#after removing rows with NaN\n",
    "# seperating x and y field for LinearRegression\n",
    "x = newval[:, :2]\n",
    "y = newval[: , 2]"
   ]
  },
  {
   "cell_type": "code",
   "execution_count": null,
   "id": "4c44fa43",
   "metadata": {},
   "outputs": [],
   "source": [
    "from sklearn.linear_model import LinearRegression"
   ]
  },
  {
   "cell_type": "code",
   "execution_count": null,
   "id": "ee3a013d",
   "metadata": {},
   "outputs": [],
   "source": [
    "model = LinearRegression()"
   ]
  },
  {
   "cell_type": "code",
   "execution_count": null,
   "id": "f15698b6",
   "metadata": {},
   "outputs": [],
   "source": [
    "model.fit(x, y)"
   ]
  },
  {
   "cell_type": "code",
   "execution_count": null,
   "id": "39b5e8be",
   "metadata": {},
   "outputs": [],
   "source": [
    "# 1 class passanger age\n",
    "model.predict([[1,0]])"
   ]
  },
  {
   "cell_type": "code",
   "execution_count": null,
   "id": "c0d901a7",
   "metadata": {},
   "outputs": [],
   "source": [
    "# 2 class passanger age\n",
    "model.predict([[0,1]])"
   ]
  },
  {
   "cell_type": "code",
   "execution_count": null,
   "id": "0209e9ae",
   "metadata": {},
   "outputs": [],
   "source": [
    "# 3 class passanger age\n",
    "model.predict([[0,0]])"
   ]
  },
  {
   "cell_type": "code",
   "execution_count": null,
   "id": "53b7f095",
   "metadata": {},
   "outputs": [],
   "source": []
  }
 ],
 "metadata": {
  "kernelspec": {
   "display_name": "Python 3",
   "language": "python",
   "name": "python3"
  },
  "language_info": {
   "codemirror_mode": {
    "name": "ipython",
    "version": 3
   },
   "file_extension": ".py",
   "mimetype": "text/x-python",
   "name": "python",
   "nbconvert_exporter": "python",
   "pygments_lexer": "ipython3",
   "version": "3.8.8"
  }
 },
 "nbformat": 4,
 "nbformat_minor": 5
}
